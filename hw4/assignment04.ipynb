{
 "cells": [
  {
   "cell_type": "markdown",
   "id": "1e004ff2",
   "metadata": {},
   "source": [
    "# 1. LeetCode 225. Implement Stack using Queues"
   ]
  },
  {
   "cell_type": "code",
   "execution_count": null,
   "id": "f90a5a70",
   "metadata": {},
   "outputs": [],
   "source": [
    "import ast\n",
    "\n",
    "class MyStack:\n",
    "    def __init__(self):\n",
    "        self.__stack = []\n",
    "\n",
    "    def push(self, x: int) -> None:\n",
    "        self.__stack.append(x)\n",
    "\n",
    "    def pop(self) -> int:\n",
    "        return self.__stack.pop()\n",
    "\n",
    "    def top(self) -> int:\n",
    "        return self.__stack[-1]\n",
    "\n",
    "    def empty(self) -> bool:\n",
    "        return len(self.__stack) == 0\n",
    "\n",
    "commands = ast.literal_eval(input())  # [\"MyStack\", \"push\", \"push\", \"top\", \"pop\", \"empty\"]\n",
    "inputs = ast.literal_eval(input())    # [[], [1], [2], [], [], []]\n",
    "output = []\n",
    "\n",
    "for i in range(len(commands)):\n",
    "    command = commands[i]\n",
    "    args = inputs[i]\n",
    "\n",
    "    if command == \"MyStack\":\n",
    "        stack = MyStack()\n",
    "        output.append(None)\n",
    "    elif command == \"push\":\n",
    "        stack.push(args[0])\n",
    "        output.append(None)\n",
    "    elif command == \"pop\":\n",
    "        output.append(stack.pop())\n",
    "    elif command == \"top\":\n",
    "        output.append(stack.top())\n",
    "    elif command == \"empty\":\n",
    "        output.append(stack.empty())\n",
    "\n",
    "print(output)"
   ]
  },
  {
   "cell_type": "markdown",
   "id": "933646ac",
   "metadata": {},
   "source": [
    "# 2. LeetCode 232. Implement Queue using Stacks"
   ]
  },
  {
   "cell_type": "code",
   "execution_count": null,
   "id": "3638cce5",
   "metadata": {},
   "outputs": [],
   "source": [
    "import ast\n",
    "\n",
    "class MyQueue:\n",
    "\n",
    "    def __init__(self):\n",
    "        self.__queue = []\n",
    "\n",
    "    def push(self, x: int) -> None:\n",
    "        self.__queue.append(x)\n",
    "\n",
    "    def pop(self) -> int:\n",
    "        return self.__queue.pop(0)\n",
    "\n",
    "    def peek(self) -> int:\n",
    "        if self.empty():\n",
    "            return None\n",
    "        else:\n",
    "            return self.__queue[0]\n",
    "\n",
    "    def empty(self) -> bool:\n",
    "        return (len(self.__queue) == 0)\n",
    "\n",
    "commands = ast.literal_eval(input())  # input setting\n",
    "inputs = ast.literal_eval(input())\n",
    "output = []\n",
    "\n",
    "for i in range(len(commands)):\n",
    "    command = commands[i]\n",
    "    args = inputs[i]\n",
    "\n",
    "    if command == \"MyQueue\":\n",
    "        queue = MyQueue()\n",
    "        output.append(None)\n",
    "    elif command == \"push\":\n",
    "        queue.push(args[0])\n",
    "        output.append(None)\n",
    "    elif command == \"pop\":\n",
    "        output.append(queue.pop())\n",
    "    elif command == \"peek\":\n",
    "        output.append(queue.peek())\n",
    "    elif command == \"empty\":\n",
    "        output.append(queue.empty())\n",
    "\n",
    "print(output)"
   ]
  },
  {
   "cell_type": "markdown",
   "id": "55d5b50d",
   "metadata": {},
   "source": [
    "# 3. 교재의 큐 연습문제 전부"
   ]
  },
  {
   "cell_type": "code",
   "execution_count": null,
   "id": "9f84aaa2",
   "metadata": {},
   "outputs": [],
   "source": [
    "# 01\n",
    "class ListQueue:\n",
    "    def __init__(self):\n",
    "        self.__queue = []\n",
    "\n",
    "    def enqueue(self, x):\n",
    "        self.__queue.append(x,-1)\n",
    "    \n",
    "    def dequeue(self):\n",
    "        return self.__queue.pop(-1)\n",
    "    \n",
    "    def front(self):\n",
    "        return self.__queue[-1]\n",
    "    \n",
    "    def isEmpty(self) -> bool:\n",
    "        return len(self.__queue) == 0\n",
    "    \n",
    "    def dequeueAll(self):\n",
    "        self.__queue.clear()\n",
    "\n",
    "# 02\n"
   ]
  }
 ],
 "metadata": {
  "kernelspec": {
   "display_name": "Python 3",
   "language": "python",
   "name": "python3"
  },
  "language_info": {
   "codemirror_mode": {
    "name": "ipython",
    "version": 3
   },
   "file_extension": ".py",
   "mimetype": "text/x-python",
   "name": "python",
   "nbconvert_exporter": "python",
   "pygments_lexer": "ipython3",
   "version": "3.10.4"
  }
 },
 "nbformat": 4,
 "nbformat_minor": 5
}
